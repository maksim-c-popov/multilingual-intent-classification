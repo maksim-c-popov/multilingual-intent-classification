{
 "cells": [
  {
   "cell_type": "code",
   "execution_count": 1,
   "id": "ef6084b5",
   "metadata": {},
   "outputs": [
    {
     "name": "stderr",
     "output_type": "stream",
     "text": [
      "2022-04-30 04:47:37.948360: W tensorflow/stream_executor/platform/default/dso_loader.cc:64] Could not load dynamic library 'libcudart.so.11.0'; dlerror: libcudart.so.11.0: cannot open shared object file: No such file or directory\n",
      "2022-04-30 04:47:37.948378: I tensorflow/stream_executor/cuda/cudart_stub.cc:29] Ignore above cudart dlerror if you do not have a GPU set up on your machine.\n"
     ]
    }
   ],
   "source": [
    "import csv\n",
    "import yaml\n",
    "import glob\n",
    "import os\n",
    "import json\n",
    "import nltk\n",
    "import re\n",
    "import shutil\n",
    "import string\n",
    "import random\n",
    "import numpy as np\n",
    "import matplotlib.pyplot as plt\n",
    "\n",
    "import tensorflow as tf\n",
    "import tensorflow_hub as hub\n",
    "import tensorflow_text as text\n",
    "import tensorflow_addons as tfa\n",
    "from tensorflow import keras\n",
    "from keras import models, layers, preprocessing as kprocessing\n",
    "from keras import backend as K\n",
    "from keras.callbacks import EarlyStopping, ModelCheckpoint\n",
    "from keras.models import load_model\n",
    "\n",
    "from random import sample\n",
    "from collections import defaultdict\n",
    "from swda import Transcript\n",
    "from swda import CorpusReader\n",
    "from operator import itemgetter\n",
    "from statistics import mean"
   ]
  },
  {
   "cell_type": "code",
   "execution_count": 2,
   "id": "0af71aef",
   "metadata": {},
   "outputs": [],
   "source": [
    "datasets_path = 'data/preprocessed_datasets/'\n",
    "res_intent_path = 'data/result_intents/'\n",
    "res_hobbie_path = 'data/result_hobbies/'\n",
    "\n",
    "if not os.path.exists(res_intent_path): os.makedirs(res_intent_path)\n",
    "if not os.path.exists(res_hobbie_path): os.makedirs(res_hobbie_path)\n",
    "\n",
    "final_intents = []\n",
    "result = defaultdict(set)"
   ]
  },
  {
   "cell_type": "code",
   "execution_count": 3,
   "id": "5e796ffc",
   "metadata": {},
   "outputs": [],
   "source": [
    "intent_group = {\n",
    "    'Answer my question' : 'answer_my_question',\n",
    "    'fa' : 'im_sorry',\n",
    "    'You Are Welcome' : 'you_are_welcome',\n",
    "    'wait' : 'wait',\n",
    "    'Sure' : 'are_you_sure',\n",
    "    'mood_unhappy' : 'mood_unhappy',\n",
    "    'mood_angry' : 'mood_angry',\n",
    "    'mood_scared' : 'mood_scared',\n",
    "    'mood_nervous' : 'mood_nervous',\n",
    "    'mood_excited' : 'mood_excited',\n",
    "    'mood_lonely' : 'mood_lonely',\n",
    "    'mood_tired' : 'mood_tired',\n",
    "    'Clever' : 'you_are_clever',\n",
    "    'TimeQuery' : 'tell_me_time',\n",
    "    'listOfGames' : 'list_of_games',\n",
    "    'playOtherGame' : 'play_other_game',\n",
    "    'volumeUp' : 'volume_up',\n",
    "    'volumeDown' : 'volume_down',\n",
    "    'WhoAmI' : 'who_am_i',\n",
    "    'music_likeness' : 'music_likeness',\n",
    "    'music_dislikeness' : 'music_dislikeness',\n",
    "    'ba' : 'appreciation',\n",
    "    'general_praise' : 'general_praise',\n",
    "    'Reaction - Positive' : 'positive_reaction',\n",
    "    'Reaction - Negative' : 'negative_reaction',\n",
    "    'general_negate' : 'youre_not_correct',\n",
    "    'NotTalking2U' : 'NotTalking2U'\n",
    "}\n",
    "\n",
    "for key in ['Bot Bad', 'Crazy', 'Annoying', 'Care the Language', 'Bad']:\n",
    "    intent_group[key] = 'bot_bad'\n",
    "\n",
    "for key in ['Thanks', 'Well Done', 'General - Thanks', 'ft']:\n",
    "    intent_group[key] = 'thanks'\n",
    "\n",
    "for key in ['Bot Affection', 'Good', 'Marry', 'Friend']:\n",
    "    intent_group[key] = 'bot_affection'\n",
    "\n",
    "for key in ['yesNode', 'Confirmation Yes', 'ny', 'General - Ok', 'aa']:\n",
    "    intent_group[key] = 'yes_agree'\n",
    "    \n",
    "for key in ['Right', 'affirm_smalltalk', 'general_affirm']:\n",
    "    intent_group[key] = 'affirm_correct'\n",
    "    \n",
    "for key in ['deny_smalltalk', 'noNode', 'General - Not', 'wrong', 'Confirmation No', 'nn']:\n",
    "    intent_group[key] = 'no_deny_wrong'\n",
    "    \n",
    "for key in ['I do not care', 'Reaction - Indifferent', 'maybeNode', 'general_dontcare']:\n",
    "    intent_group[key] = 'i_dont_care'\n",
    "    \n",
    "for key in ['Be clever', 'ad']:\n",
    "    intent_group[key] = 'bot_action_directive'\n",
    "    \n",
    "for key in ['No Problem', 'Reaction - Understanding']:\n",
    "    intent_group[key] = 'no_problem'\n",
    "    \n",
    "for key in ['stop', 'General - Stop', 'Confirmation Cancel', 'totalStop', 'Shutup', 'general_commandstop']:\n",
    "    intent_group[key] = 'stop'\n",
    "    \n",
    "for key in ['greet_smalltalk', 'general_greet', 'Welcome', 'Good Morning', 'Good Evening', 'Greetings - Nice to see you', 'Greetings - Nice to talk to you', 'Greetings - Nice to meet you', 'Greeting']:\n",
    "    intent_group[key] = 'greetings'\n",
    "    \n",
    "for key in ['goodbyes_smalltalk', 'Good Night', 'General - Bye', 'GoodBye', 'CourtesyGoodBye']:\n",
    "    intent_group[key] = 'goodbye'\n",
    "    \n",
    "for key in ['How are you', 'Greetings - Whatsup', 'CourtesyGreeting']:\n",
    "    intent_group[key] = 'how_are_you'\n",
    "    \n",
    "for key in ['Explain', 'general_explain']:\n",
    "    intent_group[key] = 'explain'\n",
    "    \n",
    "for key in ['Repeat', 'general_repeat']:\n",
    "    intent_group[key] = 'repeat'\n",
    "\n",
    "for key in ['^g', 'bk', 'bh']:\n",
    "    intent_group[key] = 'response_acknowledgement'\n",
    "    \n",
    "for key in ['There', 'stillThere', 'Ready']:\n",
    "    intent_group[key] = 'are_you_there'\n",
    "    \n",
    "for key in ['Bot Identity', 'Author', 'Agent Name', 'NameQuery', 'RealNameQuery', 'SelfAware']:\n",
    "    intent_group[key] = 'bot_identity'\n",
    "\n",
    "for key in ['Acquaintance', 'Occupation', 'Bot Purpose']:\n",
    "    intent_group[key] = 'bot_purpose'\n",
    "\n",
    "for key in ['bot_challenge', 'Chatbot', 'Real']:\n",
    "    intent_group[key] = 'bot_challenge'\n",
    "    \n",
    "for key in ['mood_happy', 'Enjoyment']:\n",
    "    intent_group[key] = 'mood_happy'\n",
    "    \n",
    "for key in ['mood_bored', 'Boring']:\n",
    "    intent_group[key] = 'mood_bored'\n",
    "    \n",
    "for key in ['Jokes', 'general_joke']:\n",
    "    intent_group[key] = 'tell_me_joke'\n",
    "    \n",
    "for key in ['timesPlayed', 'gamesCounter']:\n",
    "    intent_group[key] = 'times_played'"
   ]
  },
  {
   "cell_type": "markdown",
   "id": "3063b702",
   "metadata": {},
   "source": [
    "# Data processing\n",
    "\n",
    "To process SWDA data, you need to place the original SWDA dataset in the root project folder (if you change swda topics) or the preprocessed version in data/preprocessed_datasets/ (if you do not change swda topics).\\\n",
    "\\\n",
    "To process other datasets, you need to put the preprocessed versions of them in data/preprocessed_datasets/ .\n",
    "\n",
    "## 1. SWDA"
   ]
  },
  {
   "cell_type": "code",
   "execution_count": 4,
   "id": "140d4bdd",
   "metadata": {},
   "outputs": [],
   "source": [
    "swda_topics = ['VACATION SPOTS', 'MUSIC', 'BOOKS AND LITERATURE', 'CAMPING', 'MOVIES', 'PETS', 'FAMILY LIFE', \n",
    "              'EXERCISE AND FITNESS', 'HOBBIES AND CRAFTS', 'BASEBALL', 'FISHING', 'FOOTBALL', 'RESTAURANTS', \n",
    "              'BASKETBALL', 'GARDENING', 'PAINTING', 'GOLF', 'FAMILY REUNIONS', 'BOATING AND SAILING', 'WOODWORKING']\n",
    "hobbies = [topic.replace(' ', '_') for topic in swda_topics]"
   ]
  },
  {
   "cell_type": "code",
   "execution_count": 5,
   "id": "5d31fa83",
   "metadata": {},
   "outputs": [],
   "source": [
    "### copy files with relevant topics\n",
    "\n",
    "def copy_files():\n",
    "    \n",
    "    out_files_path = datasets_path + '1_SWDA/'\n",
    "    if not os.path.exists(out_files_path):\n",
    "        os.makedirs(out_files_path)\n",
    "\n",
    "    old_metadata_path = 'swda/swda-metadata.csv'\n",
    "    shutil.copy2(old_metadata_path, metadata_path) \n",
    "    metadata = csv.reader(open(metadata_path))\n",
    "    header = next(metadata)\n",
    "\n",
    "    for row in metadata:\n",
    "        topic = row[3]\n",
    "\n",
    "        if topic in swda_topics:\n",
    "            swda_file_path = glob.glob('swda/*/*' + row[0] + '.utt.csv')\n",
    "\n",
    "            if swda_file_path:\n",
    "                shutil.copy2(swda_file_path[0], out_files_path + topic.replace(' ', '_') + '_' + row[0] + '.csv') "
   ]
  },
  {
   "cell_type": "code",
   "execution_count": 6,
   "id": "b4d70cff",
   "metadata": {},
   "outputs": [],
   "source": [
    "#copy_files()"
   ]
  },
  {
   "cell_type": "markdown",
   "id": "3e26a04c",
   "metadata": {},
   "source": [
    "### Process hobbies"
   ]
  },
  {
   "cell_type": "code",
   "execution_count": 7,
   "id": "f4569302",
   "metadata": {},
   "outputs": [],
   "source": [
    "def write_hobbies():\n",
    "    \n",
    "    swda_act_dict = {\n",
    "        \"sv\": \"Statement-opinion\",\n",
    "        \"sd\": \"Statement-non-opinion\",\n",
    "        \"qy\": \"Yes-No-Question\",\n",
    "        \"qy^d\": \"Declarative Yes-No-Question\",\n",
    "        \"qw\": \"Wh-Question\",\n",
    "        \"arp_nd\": \"Dispreferred answers\",\n",
    "    }\n",
    "    \n",
    "    for hobbie in hobbies:\n",
    "        res_hobbies = defaultdict(set)\n",
    "        hobbie_paths = glob.glob(files_path + hobbie + '*')\n",
    "\n",
    "        for hobbie_path in hobbie_paths:\n",
    "            trans = Transcript(hobbie_path, metadata_path)\n",
    "            intent_n_examples = list(trans.utterances)\n",
    "\n",
    "            for intent in intent_n_examples:\n",
    "                intent_name = swda_act_dict.get(intent.damsl_act_tag(), 'irrelevant')\n",
    "\n",
    "                if intent_name != 'irrelevant':\n",
    "                    intent_text = intent.text\n",
    "                    intent_text = re.sub(\"([\\{\\<\\(]).*?([\\}\\>\\)])\", \"\", intent_text)\n",
    "                    intent_text = re.sub(\"([/\\[\\]\\(\\)\\<\\>\\+\\-#])\", \"\", intent_text)\n",
    "                    intent_text = intent_text.replace('s1', '')\n",
    "                    intent_text = intent_text.replace('s2', '')\n",
    "                    intent_text = re.sub(\" +\", \" \", intent_text)\n",
    "                    intent_text = intent_text.lstrip(', .')\n",
    "                    intent_text = intent_text.strip()\n",
    "\n",
    "                    if len(intent_text) > 10 and re.search('[a-zA-Z]', intent_text):\n",
    "                        res_hobbies[intent_name].add(intent_text)\n",
    "        with open(res_hobbie_path + hobbie + '.yml', 'w') as outfile:\n",
    "            yaml.dump(res_hobbies, outfile, default_flow_style=False)"
   ]
  },
  {
   "cell_type": "code",
   "execution_count": 8,
   "id": "6ef352a9",
   "metadata": {
    "scrolled": true
   },
   "outputs": [],
   "source": [
    "def read_hobbies(file_path):\n",
    "    \n",
    "    with open(file_path, 'r') as stream:\n",
    "        for x in range(4): next(stream)\n",
    "        return yaml.safe_load(stream)"
   ]
  },
  {
   "cell_type": "code",
   "execution_count": 9,
   "id": "2f09d49b",
   "metadata": {},
   "outputs": [],
   "source": [
    "#write_hobbies()\n",
    "#res_hobbies = defaultdict(set)\n",
    "#res_hobbies = read_hobbies(res_hobbie_path + 'MUSIC.yml')\n",
    "#res_hobbies['Statement-non-opinion']"
   ]
  },
  {
   "cell_type": "markdown",
   "id": "b0c7f28b",
   "metadata": {},
   "source": [
    "### Process intents"
   ]
  },
  {
   "cell_type": "code",
   "execution_count": 10,
   "id": "208e45eb",
   "metadata": {},
   "outputs": [],
   "source": [
    "def trim_intent(intent_text):\n",
    "    result_intent = intent_text.lower()\n",
    "    result_intent = re.sub(\"([\\{\\<\\(]).*?([\\}\\>\\)])\", \"\", result_intent)\n",
    "    result_intent = re.sub(\"([/,\\.\\[\\]\\(\\)\\<\\>\\+\\-#])\", \"\", result_intent)\n",
    "    result_intent = result_intent.replace('s1', '')\n",
    "    result_intent = result_intent.replace('s2', '')\n",
    "    result_intent = result_intent.replace('olly', '')\n",
    "    result_intent = re.sub(\" +\", \" \", result_intent)\n",
    "    result_intent = result_intent.strip()\n",
    "    return result_intent"
   ]
  },
  {
   "cell_type": "code",
   "execution_count": 11,
   "id": "951ce1b8",
   "metadata": {},
   "outputs": [],
   "source": [
    "def process_1_swda():\n",
    "    files_path = datasets_path + '1_SWDA/'\n",
    "    metadata_path = files_path + 'swda-metadata.csv'\n",
    "\n",
    "    for hobbie in hobbies:\n",
    "        hobbie_paths = glob.glob(files_path + hobbie + '*')\n",
    "\n",
    "        for hobbie_path in hobbie_paths:\n",
    "            trans = Transcript(hobbie_path, metadata_path)\n",
    "            intent_n_examples = list(trans.utterances)\n",
    "\n",
    "            for intent in intent_n_examples:\n",
    "                intent_name = intent_group.get(intent.damsl_act_tag(), 'irrelevant')\n",
    "\n",
    "                intent_text = trim_intent(intent.text)\n",
    "\n",
    "                if intent_name != 'irrelevant' and re.search('[a-zA-Z]', intent_text) and len(intent_text) < 50:\n",
    "                    result[intent_name].add(intent_text)"
   ]
  },
  {
   "cell_type": "markdown",
   "id": "c4461829",
   "metadata": {},
   "source": [
    "## 2. RasaHQ"
   ]
  },
  {
   "cell_type": "code",
   "execution_count": 12,
   "id": "3a6e6b6c",
   "metadata": {
    "scrolled": true
   },
   "outputs": [],
   "source": [
    "def process_2_rasaHQ():\n",
    "    file_paths = glob.glob(datasets_path + '2_RasaHQ/*/*.yml')\n",
    "\n",
    "    for file_path in file_paths:\n",
    "        with open(file_path, 'r') as file:\n",
    "            parsed_file = yaml.safe_load(file)\n",
    "\n",
    "        intents_n_examples = parsed_file[\"nlu\"]\n",
    "        for intent in intents_n_examples:\n",
    "            intent_name = intent_group.get(intent['intent'], 'irrelevant')\n",
    "            rough_examples = intent['examples'].split('\\n')\n",
    "            examples = [trim_intent(ex) for ex in rough_examples][:-1]\n",
    "            \n",
    "            if intent_name != 'irrelevant':\n",
    "                result[intent_name].update(examples)"
   ]
  },
  {
   "cell_type": "markdown",
   "id": "97eac03b",
   "metadata": {},
   "source": [
    "## 3. Chatbot Dialog Dataset"
   ]
  },
  {
   "cell_type": "code",
   "execution_count": 13,
   "id": "8b7d53e8",
   "metadata": {},
   "outputs": [],
   "source": [
    "def process_3_dialog_dataset():\n",
    "    file_path = datasets_path + '3_Chatbot_Dialog_Dataset/'\n",
    "\n",
    "    for file in os.listdir(file_path):\n",
    "        intent_name = intent_group.get(str(file).split('.')[0], 'irrelevant')\n",
    "\n",
    "        rough_examples = open(file_path + file, \"r\").read().split(\"\\n\")\n",
    "        examples = [trim_intent(ex) for ex in rough_examples]\n",
    "        \n",
    "        if intent_name != 'irrelevant':\n",
    "            result[intent_name].update(examples)"
   ]
  },
  {
   "cell_type": "markdown",
   "id": "3cb0eb4d",
   "metadata": {},
   "source": [
    "## 4. Chatbot Intent Classification"
   ]
  },
  {
   "cell_type": "code",
   "execution_count": 14,
   "id": "fe47eaef",
   "metadata": {},
   "outputs": [],
   "source": [
    "def process_4_intent_classification():\n",
    "    file_path = datasets_path + '4_Chatbot_Intent_Classification/intent-corpus-basic.json'\n",
    "\n",
    "    with open(file_path, 'r') as file:\n",
    "        data = json.load(file)\n",
    "\n",
    "    intents_n_examples = data['sentences']\n",
    "    for intent in intents_n_examples:\n",
    "        intent_name = intent_group.get(intent['intent'], 'irrelevant')\n",
    "        example = trim_intent(intent['text'])\n",
    "\n",
    "        if intent_name != 'irrelevant' and re.search('[a-zA-Z]', example):\n",
    "            result[intent_name].add(example)"
   ]
  },
  {
   "cell_type": "markdown",
   "id": "58946be6",
   "metadata": {},
   "source": [
    "## 5. Chatbot Intent Recognition"
   ]
  },
  {
   "cell_type": "code",
   "execution_count": 15,
   "id": "158bb7d1",
   "metadata": {},
   "outputs": [],
   "source": [
    "def process_5_intent_recognition():    \n",
    "    file_path = datasets_path + '5_Chatbot_Intent_Recognition/Intent.json'\n",
    "\n",
    "    with open(file_path, 'r') as file:\n",
    "        data = json.load(file)\n",
    "\n",
    "    intents_n_examples = data['intents']\n",
    "    for intent in intents_n_examples:\n",
    "        intent_name = intent_group.get(intent['intent'], 'irrelevant')\n",
    "\n",
    "        rough_examples = intent['text']\n",
    "        examples = [trim_intent(ex) for ex in rough_examples]\n",
    "        \n",
    "        if intent_name != 'irrelevant':\n",
    "            result[intent_name].update(examples)"
   ]
  },
  {
   "cell_type": "markdown",
   "id": "ab38ec9f",
   "metadata": {},
   "source": [
    "## 6. HWU64"
   ]
  },
  {
   "cell_type": "code",
   "execution_count": 16,
   "id": "d865e294",
   "metadata": {},
   "outputs": [],
   "source": [
    "def process_6_hwu64():\n",
    "    file_path = datasets_path + '6_HWU64/NLU-Data-Home-Domain-Annotated-All.csv'\n",
    "\n",
    "    file = open(file_path)    \n",
    "    data = csv.reader(file)\n",
    "\n",
    "    header = next(data)\n",
    "\n",
    "    for row in data:\n",
    "        clean_row = ','.join(map(str, row)).split(';')\n",
    "        intent_name = intent_group.get(clean_row[2] + \"_\" + clean_row[3], 'irrelevant')\n",
    "        example = trim_intent(clean_row[9])\n",
    "\n",
    "        if intent_name != 'irrelevant' and re.search('[a-zA-Z]', example):\n",
    "            result[intent_name].add(example)"
   ]
  },
  {
   "cell_type": "code",
   "execution_count": 17,
   "id": "3ca5eb7c",
   "metadata": {},
   "outputs": [],
   "source": [
    "### write intents\n",
    "\n",
    "def write_results():\n",
    "    for intent_group in result.keys():\n",
    "        with open(res_intent_path + intent_group + '.yml', 'w') as outfile:\n",
    "            yaml.dump(result[intent_group], outfile, default_flow_style=False)"
   ]
  },
  {
   "cell_type": "code",
   "execution_count": 18,
   "id": "fdeecb84",
   "metadata": {
    "scrolled": true
   },
   "outputs": [],
   "source": [
    "#process_1_swda()\n",
    "#process_2_rasaHQ()\n",
    "#process_3_dialog_dataset()\n",
    "#process_4_intent_classification()\n",
    "#process_5_intent_recognition()\n",
    "#process_6_hwu64()\n",
    "#write_results()"
   ]
  },
  {
   "cell_type": "markdown",
   "id": "84175d30",
   "metadata": {},
   "source": [
    "# Transfer learning"
   ]
  },
  {
   "cell_type": "code",
   "execution_count": 19,
   "id": "410edb69",
   "metadata": {},
   "outputs": [],
   "source": [
    "def read_intents(file_path):  \n",
    "    with open(file_path, 'r') as stream:\n",
    "        return yaml.safe_load(stream)"
   ]
  },
  {
   "cell_type": "code",
   "execution_count": 20,
   "id": "e60b3c1c",
   "metadata": {},
   "outputs": [],
   "source": [
    "result = defaultdict(set)\n",
    "\n",
    "file_paths = glob.glob(res_intent_path + '*.yml')\n",
    "\n",
    "for file_path in file_paths:\n",
    "\n",
    "    intents = read_intents(file_path)\n",
    "    intent_group = file_path.replace(res_intent_path, '').replace('.yml', '')\n",
    "    result[intent_group] = intents"
   ]
  },
  {
   "cell_type": "code",
   "execution_count": 21,
   "id": "1c4d12cd",
   "metadata": {
    "scrolled": true
   },
   "outputs": [
    {
     "name": "stdout",
     "output_type": "stream",
     "text": [
      "number of intents: 27\n",
      "smallest sets: [(61, 'bot_identity'), (66, 'list_of_games'), (68, 'thanks'), (74, 'volume_up'), (91, 'bot_purpose')]\n",
      "biggest sets: [(601, 'repeat'), (627, 'general_praise'), (633, 'explain'), (939, 'youre_not_correct'), (956, 'yes_agree')]\n"
     ]
    }
   ],
   "source": [
    "# get intent groups and number of samples in each group. \n",
    "# (only if the group is bigger than 55 samples)\n",
    "intent_group_n = [(len(result[key]), key) for key in result.keys() if len(result[key]) > 55]\n",
    "intent_group_n.sort(key=lambda key: key[0])\n",
    "print('number of intents:', len(intent_group_n))\n",
    "print('smallest sets:', intent_group_n[:5])\n",
    "print('biggest sets:', intent_group_n[-5:])\n",
    "intent_groups = [key[1] for key in intent_group_n]"
   ]
  },
  {
   "cell_type": "code",
   "execution_count": 22,
   "id": "f3fb9889",
   "metadata": {},
   "outputs": [
    {
     "data": {
      "image/png": "[encoded data removed]",
      "text/plain": [
       "<Figure size 432x288 with 1 Axes>"
      ]
     },
     "metadata": {
      "needs_background": "light"
     },
     "output_type": "display_data"
    }
   ],
   "source": [
    "plt.bar(range(1,21), [key[0] for key in intent_group_n][:20])\n",
    "plt.title('Size of 20 smallest intent groups')\n",
    "plt.ylabel('Number of samples')\n",
    "plt.xlabel('Intent group #')\n",
    "plt.show()"
   ]
  },
  {
   "cell_type": "code",
   "execution_count": 23,
   "id": "7e44d2f8",
   "metadata": {},
   "outputs": [],
   "source": [
    "interjections = ['hmm ', 'ah ', 'oh ', 'uh ', 'uhh ', 'hey ']\n",
    "\n",
    "for group_n in intent_group_n:\n",
    "    if group_n[0] < 250:\n",
    "        frac = 0.95 if group_n[0] < 150 else 0.55\n",
    "        group_name = group_n[1]\n",
    "        new_samples = sample(result[group_name], int(frac * group_n[0]))\n",
    "        new_samples_aug = [sample(interjections, 1)[0] + samp for samp in new_samples]\n",
    "        result[group_name].update(new_samples_aug)"
   ]
  },
  {
   "cell_type": "code",
   "execution_count": 24,
   "id": "57f9127e",
   "metadata": {
    "scrolled": false
   },
   "outputs": [
    {
     "data": {
      "image/png": "[encoded data removed]",
      "text/plain": [
       "<Figure size 432x288 with 1 Axes>"
      ]
     },
     "metadata": {
      "needs_background": "light"
     },
     "output_type": "display_data"
    }
   ],
   "source": [
    "augmented_data_stats = [len(result[key]) for key in result.keys() if len(result[key]) > 55]\n",
    "augmented_data_stats.sort()\n",
    "\n",
    "plt.bar(range(1,21), augmented_data_stats[:20])\n",
    "plt.title('Size of 20 smallest intent groups after data augmentation')\n",
    "plt.ylabel('Number of samples')\n",
    "plt.xlabel('Intent group #')\n",
    "plt.show()"
   ]
  },
  {
   "cell_type": "code",
   "execution_count": 25,
   "id": "7cda98ec",
   "metadata": {},
   "outputs": [],
   "source": [
    "xx = []\n",
    "yy = []\n",
    "\n",
    "for i, intent in enumerate(intent_groups):\n",
    "    x_new = result[intent]\n",
    "    y_new = [i] * len(x_new)\n",
    "    xx += x_new\n",
    "    yy += y_new\n",
    "\n",
    "xx_yy = list(zip(xx, yy))\n",
    "random.shuffle(xx_yy)\n",
    "xx, yy = zip(*xx_yy)\n",
    "    \n",
    "x = np.array(xx)\n",
    "y = np.array(yy)"
   ]
  },
  {
   "cell_type": "code",
   "execution_count": 26,
   "id": "c877341d",
   "metadata": {
    "scrolled": false
   },
   "outputs": [
    {
     "name": "stderr",
     "output_type": "stream",
     "text": [
      "2022-04-30 04:47:40.402940: W tensorflow/stream_executor/platform/default/dso_loader.cc:64] Could not load dynamic library 'libcuda.so.1'; dlerror: libcuda.so.1: cannot open shared object file: No such file or directory\n",
      "2022-04-30 04:47:40.402963: W tensorflow/stream_executor/cuda/cuda_driver.cc:269] failed call to cuInit: UNKNOWN ERROR (303)\n",
      "2022-04-30 04:47:40.402977: I tensorflow/stream_executor/cuda/cuda_diagnostics.cc:156] kernel driver does not appear to be running on this host (ubu): /proc/driver/nvidia/version does not exist\n",
      "2022-04-30 04:47:40.403158: I tensorflow/core/platform/cpu_feature_guard.cc:151] This TensorFlow binary is optimized with oneAPI Deep Neural Network Library (oneDNN) to use the following CPU instructions in performance-critical operations:  AVX2 AVX512F FMA\n",
      "To enable them in other operations, rebuild TensorFlow with the appropriate compiler flags.\n"
     ]
    }
   ],
   "source": [
    "model_url = \"https://tfhub.dev/google/universal-sentence-encoder-multilingual/3\"\n",
    "hub_layer = hub.KerasLayer(model_url, input_shape=[], dtype=tf.string, trainable=False)"
   ]
  },
  {
   "cell_type": "code",
   "execution_count": 27,
   "id": "b3b814d4",
   "metadata": {
    "scrolled": true
   },
   "outputs": [
    {
     "name": "stdout",
     "output_type": "stream",
     "text": [
      "Model: \"sequential\"\n",
      "_________________________________________________________________\n",
      " Layer (type)                Output Shape              Param #   \n",
      "=================================================================\n",
      " keras_layer (KerasLayer)    (None, 512)               68927232  \n",
      "                                                                 \n",
      " dense (Dense)               (None, 128)               65664     \n",
      "                                                                 \n",
      " dense_1 (Dense)             (None, 27)                3483      \n",
      "                                                                 \n",
      "=================================================================\n",
      "Total params: 68,996,379\n",
      "Trainable params: 69,147\n",
      "Non-trainable params: 68,927,232\n",
      "_________________________________________________________________\n"
     ]
    }
   ],
   "source": [
    "model = tf.keras.Sequential()\n",
    "model.add(hub_layer)\n",
    "model.add(tf.keras.layers.Dense(128, activation='relu'))\n",
    "model.add(tf.keras.layers.Dense(len(intent_groups), activation='softmax'))\n",
    "\n",
    "model.compile(loss='sparse_categorical_crossentropy', optimizer='adam', metrics=['accuracy'])\n",
    "model.summary()"
   ]
  },
  {
   "cell_type": "code",
   "execution_count": 28,
   "id": "d924e6b7",
   "metadata": {
    "scrolled": true
   },
   "outputs": [
    {
     "name": "stdout",
     "output_type": "stream",
     "text": [
      "Epoch 1/50\n",
      "121/121 [==============================] - 7s 29ms/step - loss: 2.2772 - accuracy: 0.4989 - val_loss: 1.3784 - val_accuracy: 0.6729\n",
      "Epoch 2/50\n",
      "121/121 [==============================] - 3s 23ms/step - loss: 1.0379 - accuracy: 0.7348 - val_loss: 0.8589 - val_accuracy: 0.7840\n",
      "Epoch 3/50\n",
      "121/121 [==============================] - 3s 23ms/step - loss: 0.7499 - accuracy: 0.7930 - val_loss: 0.7110 - val_accuracy: 0.8021\n",
      "Epoch 4/50\n",
      "121/121 [==============================] - 3s 23ms/step - loss: 0.6368 - accuracy: 0.8150 - val_loss: 0.6319 - val_accuracy: 0.8165\n",
      "Epoch 5/50\n",
      "121/121 [==============================] - 3s 23ms/step - loss: 0.5724 - accuracy: 0.8263 - val_loss: 0.5919 - val_accuracy: 0.8165\n",
      "Epoch 6/50\n",
      "121/121 [==============================] - 3s 23ms/step - loss: 0.5286 - accuracy: 0.8373 - val_loss: 0.5607 - val_accuracy: 0.8269\n",
      "Epoch 7/50\n",
      "121/121 [==============================] - 3s 22ms/step - loss: 0.4929 - accuracy: 0.8462 - val_loss: 0.5306 - val_accuracy: 0.8284\n",
      "Epoch 8/50\n",
      "121/121 [==============================] - 3s 23ms/step - loss: 0.4645 - accuracy: 0.8537 - val_loss: 0.5228 - val_accuracy: 0.8326\n",
      "Epoch 9/50\n",
      "121/121 [==============================] - 3s 23ms/step - loss: 0.4432 - accuracy: 0.8583 - val_loss: 0.4999 - val_accuracy: 0.8429\n",
      "Epoch 10/50\n",
      "121/121 [==============================] - 3s 23ms/step - loss: 0.4220 - accuracy: 0.8643 - val_loss: 0.4874 - val_accuracy: 0.8419\n",
      "Epoch 11/50\n",
      "121/121 [==============================] - 3s 23ms/step - loss: 0.4045 - accuracy: 0.8692 - val_loss: 0.4782 - val_accuracy: 0.8455\n",
      "Epoch 12/50\n",
      "121/121 [==============================] - 3s 23ms/step - loss: 0.3874 - accuracy: 0.8753 - val_loss: 0.4668 - val_accuracy: 0.8450\n",
      "Epoch 13/50\n",
      "121/121 [==============================] - 3s 23ms/step - loss: 0.3738 - accuracy: 0.8807 - val_loss: 0.4558 - val_accuracy: 0.8501\n",
      "Epoch 14/50\n",
      "121/121 [==============================] - 3s 23ms/step - loss: 0.3606 - accuracy: 0.8823 - val_loss: 0.4500 - val_accuracy: 0.8512\n",
      "Epoch 15/50\n",
      "121/121 [==============================] - 3s 23ms/step - loss: 0.3491 - accuracy: 0.8868 - val_loss: 0.4445 - val_accuracy: 0.8548\n",
      "Epoch 16/50\n",
      "121/121 [==============================] - 3s 23ms/step - loss: 0.3391 - accuracy: 0.8929 - val_loss: 0.4430 - val_accuracy: 0.8517\n",
      "Epoch 17/50\n",
      "121/121 [==============================] - 3s 24ms/step - loss: 0.3281 - accuracy: 0.8940 - val_loss: 0.4394 - val_accuracy: 0.8501\n",
      "Epoch 18/50\n",
      "121/121 [==============================] - 3s 23ms/step - loss: 0.3198 - accuracy: 0.8978 - val_loss: 0.4334 - val_accuracy: 0.8527\n",
      "Epoch 19/50\n",
      "121/121 [==============================] - 3s 23ms/step - loss: 0.3102 - accuracy: 0.8969 - val_loss: 0.4261 - val_accuracy: 0.8594\n",
      "Epoch 20/50\n",
      "121/121 [==============================] - 3s 23ms/step - loss: 0.3026 - accuracy: 0.9022 - val_loss: 0.4190 - val_accuracy: 0.8610\n",
      "Epoch 21/50\n",
      "121/121 [==============================] - 3s 23ms/step - loss: 0.2947 - accuracy: 0.9033 - val_loss: 0.4216 - val_accuracy: 0.8615\n",
      "Epoch 22/50\n",
      "121/121 [==============================] - 3s 23ms/step - loss: 0.2877 - accuracy: 0.9077 - val_loss: 0.4242 - val_accuracy: 0.8574\n",
      "Epoch 23/50\n",
      "121/121 [==============================] - 3s 23ms/step - loss: 0.2810 - accuracy: 0.9077 - val_loss: 0.4172 - val_accuracy: 0.8599\n",
      "Epoch 24/50\n",
      "121/121 [==============================] - 3s 23ms/step - loss: 0.2735 - accuracy: 0.9106 - val_loss: 0.4122 - val_accuracy: 0.8589\n",
      "Epoch 25/50\n",
      "121/121 [==============================] - 3s 24ms/step - loss: 0.2686 - accuracy: 0.9112 - val_loss: 0.4116 - val_accuracy: 0.8599\n",
      "Epoch 26/50\n",
      "121/121 [==============================] - 3s 23ms/step - loss: 0.2615 - accuracy: 0.9142 - val_loss: 0.4103 - val_accuracy: 0.8620\n",
      "Epoch 27/50\n",
      "121/121 [==============================] - 3s 23ms/step - loss: 0.2570 - accuracy: 0.9155 - val_loss: 0.4065 - val_accuracy: 0.8594\n",
      "Epoch 28/50\n",
      "121/121 [==============================] - 3s 23ms/step - loss: 0.2529 - accuracy: 0.9174 - val_loss: 0.4061 - val_accuracy: 0.8558\n",
      "Epoch 29/50\n",
      "121/121 [==============================] - 3s 24ms/step - loss: 0.2488 - accuracy: 0.9169 - val_loss: 0.4045 - val_accuracy: 0.8563\n",
      "Epoch 30/50\n",
      "121/121 [==============================] - 3s 23ms/step - loss: 0.2409 - accuracy: 0.9187 - val_loss: 0.4022 - val_accuracy: 0.8605\n",
      "Epoch 31/50\n",
      "121/121 [==============================] - 3s 23ms/step - loss: 0.2378 - accuracy: 0.9199 - val_loss: 0.4002 - val_accuracy: 0.8651\n",
      "Epoch 32/50\n",
      "121/121 [==============================] - 3s 23ms/step - loss: 0.2328 - accuracy: 0.9217 - val_loss: 0.4044 - val_accuracy: 0.8594\n",
      "Epoch 33/50\n",
      "121/121 [==============================] - 3s 24ms/step - loss: 0.2306 - accuracy: 0.9221 - val_loss: 0.4005 - val_accuracy: 0.8641\n",
      "Epoch 34/50\n",
      "121/121 [==============================] - 3s 23ms/step - loss: 0.2251 - accuracy: 0.9227 - val_loss: 0.3970 - val_accuracy: 0.8630\n",
      "Epoch 35/50\n",
      "121/121 [==============================] - 3s 23ms/step - loss: 0.2215 - accuracy: 0.9248 - val_loss: 0.3956 - val_accuracy: 0.8636\n",
      "Epoch 36/50\n",
      "121/121 [==============================] - 3s 23ms/step - loss: 0.2170 - accuracy: 0.9265 - val_loss: 0.4054 - val_accuracy: 0.8605\n",
      "Epoch 37/50\n",
      "121/121 [==============================] - 3s 23ms/step - loss: 0.2153 - accuracy: 0.9252 - val_loss: 0.3953 - val_accuracy: 0.8630\n",
      "Epoch 38/50\n",
      "121/121 [==============================] - 3s 24ms/step - loss: 0.2105 - accuracy: 0.9265 - val_loss: 0.3915 - val_accuracy: 0.8661\n",
      "Epoch 39/50\n",
      "121/121 [==============================] - 3s 23ms/step - loss: 0.2077 - accuracy: 0.9269 - val_loss: 0.3952 - val_accuracy: 0.8646\n",
      "Epoch 40/50\n",
      "121/121 [==============================] - 3s 23ms/step - loss: 0.2039 - accuracy: 0.9292 - val_loss: 0.3966 - val_accuracy: 0.8610\n",
      "Epoch 41/50\n",
      "121/121 [==============================] - 3s 24ms/step - loss: 0.2013 - accuracy: 0.9296 - val_loss: 0.3964 - val_accuracy: 0.8589\n",
      "Epoch 41: early stopping\n"
     ]
    }
   ],
   "source": [
    "earlyStopping = EarlyStopping(monitor='val_loss', patience=3, verbose=1, mode='min')\n",
    "training_results = model.fit(x=x, y=y, batch_size=64, epochs=50, shuffle=True, verbose=1, callbacks=[earlyStopping], validation_split=0.2)"
   ]
  },
  {
   "cell_type": "code",
   "execution_count": 29,
   "id": "209526ed",
   "metadata": {},
   "outputs": [
    {
     "data": {
      "image/png": "[encoded data removed]",
      "text/plain": [
       "<Figure size 432x288 with 1 Axes>"
      ]
     },
     "metadata": {
      "needs_background": "light"
     },
     "output_type": "display_data"
    },
    {
     "data": {
      "image/png": "[encoded data removed]",
      "text/plain": [
       "<Figure size 432x288 with 1 Axes>"
      ]
     },
     "metadata": {
      "needs_background": "light"
     },
     "output_type": "display_data"
    }
   ],
   "source": [
    "plt.plot(training_results.history['accuracy'])\n",
    "plt.plot(training_results.history['val_accuracy'])\n",
    "plt.title('model accuracy')\n",
    "plt.ylabel('accuracy')\n",
    "plt.xlabel('epoch')\n",
    "plt.legend(['train', 'test'], loc='lower right')\n",
    "plt.show()\n",
    "\n",
    "plt.plot(training_results.history['loss'])\n",
    "plt.plot(training_results.history['val_loss'])\n",
    "plt.title('model loss')\n",
    "plt.ylabel('loss')\n",
    "plt.xlabel('epoch')\n",
    "plt.legend(['train', 'test'], loc='upper right')\n",
    "plt.show()"
   ]
  },
  {
   "cell_type": "code",
   "execution_count": 30,
   "id": "1f994155",
   "metadata": {},
   "outputs": [],
   "source": [
    "nl_test_bot_identity = ['uhh wie is je ontwikkelaar?', 'hoe kan ik je bellen', 'wat is je bijnaam ook alweer', 'wat is je echte naam?', 'vertel me je naam?']\n",
    "nl_test_thanks = ['nou bedankt', 'uhh bedankt voor je hulp', 'hey goed werk', 'uh heel erg bedankt', 'Bravo']\n",
    "nl_test_volume_up = ['zal hoger spreken', 'kun je harder praten?', 'je praat te stil', 'uh zou je harder kunnen praten', 'ah ik kan je niet goed horen']\n",
    "nl_test_volume_down = ['zou minder hard praten', 'zal stil praten', 'ah wil je stil praten?', 'kan rustig praten', 'wil je stiller praten?']\n",
    "nl_test_bot_purpose = ['uh wat is je doel?', 'wat ben je', 'Ben jij een robot?', 'bot of mens?', 'vertel me over jou']\n",
    "nl_test_greetings = ['o blij je te zien', 'Aangenaam', 'Hallo daar', 'ik ben blij je weer te zien', 'oh goede dag']\n",
    "nl_test_goodbye = ['oke ik zie je later', 'Welterusten', 'oke doei', 'spreek je later', 'tot ziens']\n",
    "nl_test_bot_bad = ['je bent een verspilling', 'dit is niet goed', 'Jij bent erg vervelend', 'uh let alsjeblieft op je taal', 'hey je bent gek']\n",
    "nl_test_tell_me_joke = ['ah vertel me iets grappigs', 'uh ik wil een grap horen', 'uhh ik wil wel een grapje', 'vind een grap in je kluis en vertel het me', 'ah vertel me een willekeurige grap']\n",
    "nl_test_list_of_games = ['welk spel kunnen we spelen?', 'hey wat kun je nog meer spelen?', 'oh welke games zijn beschikbaar?', 'uhh welk spel ken jij?', 'welk ander spel heb je?']\n",
    "nl_test_play_other_game = ['ik wil andere spellen openen', 'een ander spel openen', 'hey stop dit spel', 'ik wil dit spel niet spelen', 'laten we wat andere spellen beginnen']\n",
    "nl_test_response_acknowledgement = ['O ja?', 'je doet?', 'uhh ik zie het', 'denk het?', 'is dat juist']\n",
    "nl_test_bot_action_directive = ['waarom begin je niet?', 'eh ga door', 'noem maar op', 'hey je moet leren', 'je zou dat kunnen proberen']\n",
    "nl_test_bot_affection = ['je werkt goed', 'ik vind jou ook leuk', 'trouw met me alsjeblieft', 'jij bent goed', 'ah vind je erg leuk']\n",
    "nl_test_music_likeness = ['het lied raakt mijn hart', 'hey dit is een vijf sterren nummer!', 'het nummer dat je speelt is geweldig', 'ah ik hou van muziek uit de jaren 80', 'dit is een leuk liedje']\n",
    "nl_test_negative_reaction = ['wil je dit oplossen?', 'hey ik heb een probleem', 'erger dan ik dacht', 'dit is zo saai', 'behoorlijk slecht']\n",
    "nl_test_positive_reaction = ['briljant', 'het is zeer goed', 'dat is een goed idee', 'ah geweldig', 'Super geweldig']\n",
    "nl_test_no_deny_wrong = ['oh nee ik niet', 'niet correct', 'ik heb er geen', 'niet echt', 'niet dit']\n",
    "nl_test_stop = ['annuleer mijn verzoek', 'wil je alsjeblieft afsluiten', 'niets doen', 'ik wil stoppen', 'wil je er alsjeblieft mee stoppen']\n",
    "nl_test_i_dont_care = ['vind het echt niet erg', 'zou het niet erg vinden om er een te selecteren', 'iedereen is in orde met mij', 'het kan me niet echt schelen', 'alles is oké voor mij']\n",
    "nl_test_appreciation = ['leuk', 'dat klinkt best netjes', 'dat klinkt zo mooi', 'dat is veel werk', 'dat is geweldig']\n",
    "nl_test_affirm_correct = ['je hebt helemaal gelijk', 'het is de waarheid', 'snap het perfect', 'ja je hebt het antwoord precies', 'commando was exact']\n",
    "nl_test_repeat = ['vertel me nog een keer de laatste alsjeblieft', 'zou je alsjeblieft je laatste zin willen herhalen?', 'stop en probeer het opnieuw', 'laten we het alsjeblieft nog een keer proberen', 'vertel me alsjeblieft nog een keer']\n",
    "nl_test_general_praise = ['prachtig werk heb je goed gedaan', 'je hebt het goed gedaan bedankt', 'dat is handig dankjewel', 'dat heb je goed gedaan heel erg bedankt', 'dat heb je goed gedaan, ik waardeer het']\n",
    "nl_test_explain = ['kunt u alstublieft nogmaals verduidelijken?', 'leg verder uit aub', 'het was me niet duidelijk', 'wat bedoelde je ermee?', 'kun je me verder herformuleren op je antwoorden?']\n",
    "nl_test_youre_not_correct = ['ik heb hier niet om gevraagd', 'het lijkt erop dat het antwoord niet juist was', 'het spijt me maar dat was niet goed', 'uw opdracht was onjuist', 'het spijt me maar dat is niet het juiste antwoord']\n",
    "nl_test_yes_agree = ['Ja', 'ik ben het er zeker mee eens', 'positief', 'oh ik denk dat', 'oh ja waarschijnlijk']"
   ]
  },
  {
   "cell_type": "code",
   "execution_count": 31,
   "id": "6e2a9918",
   "metadata": {},
   "outputs": [],
   "source": [
    "ru_test_bot_identity = ['я забыл твое имя', 'можешь подсказать свое имя?', 'кто ты?', 'кто создал тебя?', 'как мне стоит называть тебя?']\n",
    "ru_test_thanks = ['нет, спасибо, это все', 'большое спасибо', 'благодарю', 'отличная работа!', 'я ценю твою помощь']\n",
    "ru_test_volume_up = ['хмм а не мог бы ты говорить погромче?', 'а можно повысить громкость?', 'я не слышу тебя', 'можешь разговаривать громче?', 'ты говоришь очень тихо']\n",
    "ru_test_volume_down = ['говори потише', 'ты слишком громкий', 'убавь громкость', 'ты можешь говорить тихо?',  'можно говорить не так громко?']\n",
    "ru_test_bot_purpose = ['ты можешь мне помочь?', 'как это работает?', 'ты робот?', 'ты настоящий?', 'что ты такое?']\n",
    "ru_test_greetings = ['очень рад видеть тебя', 'доброе утро', 'привет', 'доброго дня', 'приветствую!']\n",
    "ru_test_goodbye = ['прощай', 'спасибо, до свидания', 'пока-пока', 'всего хорошего', 'увидимся позже!']\n",
    "ru_test_bot_bad = ['ты очень плохой', 'ты сошел с ума', 'очень плохо', 'хм, это было ужасно', 'ты просто мусор']\n",
    "ru_test_tell_me_joke = ['расскажи мне шутку', 'хей ну ка расскажи анекдот', 'ты знаешь какие-нибудь шутеечки?', 'мм я хотел бы услышать шутку', 'я хочу услышать что-нибудь смешное']\n",
    "ru_test_list_of_games = ['во что я могу поиграть?', 'о, какие игры у тебя есть?', 'в какие игры ты умеешь играть?', 'а в какую игру мы можем поиграть?', 'ммм какие игры доступны?']\n",
    "ru_test_play_other_game = ['нуу давай сыграем в другую игру', 'давай еще поиграем', 'играем еще', 'я хочу сыграть еще одну игру', 'я хочу начать новую игру']\n",
    "ru_test_response_acknowledgement = ['правда?', 'действительно?', 'это правильно?', 'не так ли?', 'ух ты']\n",
    "ru_test_bot_action_directive = ['тебе стоит попробовать', 'ты хочешь начать первым?', 'Вам стоит попытаться', 'тебе нужно научиться этому', 'продолжай']\n",
    "ru_test_bot_affection = ['ты хорошо работаешь', 'ты хороший', 'Ты мне тоже нравишься', 'ах ты мне очень нравишься', 'женись на мне, пожалуйста']\n",
    "ru_test_music_likeness = ['а мне нравится музыка 90-х', 'эта песня трогает мое сердце', 'песня, которую ты играешь, потрясающая', 'это хорошая песня', 'Эй, это пятизвездочная песня!']\n",
    "ru_test_negative_reaction = ['хуже, чем я думал', 'это так скучно', 'ты исправишь это', 'довольно плохо', 'эй у меня проблема']\n",
    "ru_test_positive_reaction = ['это хорошая идея', 'ах удивительно', 'это очень хорошо', 'супер классно', 'блестяще']\n",
    "ru_test_no_deny_wrong = ['неправильно', 'У меня нет', 'о нет, я не', 'не совсем', 'не то']\n",
    "ru_test_stop = ['отменить мой запрос', 'не могли бы вы выключить', 'ничего не делать', 'я хочу остановить это', 'пожалуйста, просто прекрати это']\n",
    "ru_test_i_dont_care = ['мне все равно', 'мне действительно без разницы', 'не против выбрать любой', 'я согласен на любое', 'любое окей для меня']\n",
    "ru_test_appreciation = ['это звучит так красиво', 'красивый', 'это много работы', 'это великолепно', 'это звучит довольно аккуратно']\n",
    "ru_test_affirm_correct = ['вы совершенно правы', 'это правда', 'ваш ответ отличный', 'да вы точно ответили', 'команда была точной']\n",
    "ru_test_repeat = ['не могли бы вы повторить то, что вы сказали', 'можешь повторить?', 'попробуем еще раз', 'пожалуйста, скажи мне еще раз', 'Я хотел бы снова услышать последнюю фразу' ]\n",
    "ru_test_general_praise = ['Спасибо за ваш ответ', 'это отличная работа', 'это полезно, я ценю это', 'это полезно, большое спасибо', 'молодец спасибо']\n",
    "ru_test_explain = ['пожалуйста, поясните мне свои ответы', 'объясни свой ответ мне еще раз, пожалуйста', 'я не совсем это понял', 'Я не понимаю твоих слов', 'я не понимаю этого']\n",
    "ru_test_youre_not_correct = ['сделай это как-то по-другому', 'я думаю, что ты сделал задание неправильно', 'извините, но это не правильный ответ', 'нет, ты не понял что я спросил', 'ты сделал что-то не так']\n",
    "ru_test_yes_agree = ['звучит правильно', 'о да, абсолютно', 'о да, вроде того', 'это возможно', 'думаю да']"
   ]
  },
  {
   "cell_type": "code",
   "execution_count": 32,
   "id": "dba46cbc",
   "metadata": {},
   "outputs": [],
   "source": [
    "def predict_top3(value):\n",
    "    vals = model.predict(np.array([value.lower()]))[0]\n",
    "    result = [intent_groups[i] for i in sorted(range(len(vals)), key=lambda i: vals[i])[-3:]]\n",
    "    result.reverse()\n",
    "    return result"
   ]
  },
  {
   "cell_type": "code",
   "execution_count": 33,
   "id": "b4195cb6",
   "metadata": {},
   "outputs": [],
   "source": [
    "def test_intent(intent, samples):\n",
    "    correct_count = 0\n",
    "    in_top3_count = 0\n",
    "    predicted_instead = []\n",
    "    print('Testing intent: ' + intent)\n",
    "    for sample in samples:\n",
    "        predicted_top3 = predict_top3(sample)\n",
    "        if intent == predicted_top3[0]: \n",
    "            correct_count += 1\n",
    "        else:\n",
    "            if intent in predicted_top3:\n",
    "                in_top3_count += 1\n",
    "            predicted_instead.append(predicted_top3[0])\n",
    "            #print('###', sample, '===', predicted_top3[0])\n",
    "\n",
    "    correct_pct = round(correct_count/len(samples) * 100)\n",
    "    top3_pct = round(in_top3_count/len(samples) * 100)\n",
    "    print('correct intents predicted: ', correct_pct, '%')\n",
    "    print('not correct but in top 3: ', top3_pct, '%')\n",
    "    print('intents that were predicted instead:', predicted_instead)\n",
    "    print('--------------------------------')\n",
    "    return (correct_pct, top3_pct)"
   ]
  },
  {
   "cell_type": "code",
   "execution_count": 34,
   "id": "3395c5f5",
   "metadata": {
    "scrolled": false
   },
   "outputs": [
    {
     "name": "stdout",
     "output_type": "stream",
     "text": [
      "Testing intent: bot_identity\n",
      "correct intents predicted:  80 %\n",
      "not correct but in top 3:  20 %\n",
      "intents that were predicted instead: ['bot_purpose', 'list_of_games']\n",
      "--------------------------------\n",
      "Testing intent: thanks\n",
      "correct intents predicted:  80 %\n",
      "not correct but in top 3:  0 %\n",
      "intents that were predicted instead: ['appreciation', 'general_praise']\n",
      "--------------------------------\n",
      "Testing intent: volume_up\n",
      "correct intents predicted:  70 %\n",
      "not correct but in top 3:  20 %\n",
      "intents that were predicted instead: ['volume_down', 'volume_down', 'stop']\n",
      "--------------------------------\n",
      "Testing intent: volume_down\n",
      "correct intents predicted:  60 %\n",
      "not correct but in top 3:  40 %\n",
      "intents that were predicted instead: ['volume_up', 'bot_action_directive', 'volume_up', 'repeat']\n",
      "--------------------------------\n",
      "Testing intent: bot_purpose\n",
      "correct intents predicted:  80 %\n",
      "not correct but in top 3:  10 %\n",
      "intents that were predicted instead: ['response_acknowledgement', 'goodbye']\n",
      "--------------------------------\n",
      "Testing intent: greetings\n",
      "correct intents predicted:  80 %\n",
      "not correct but in top 3:  10 %\n",
      "intents that were predicted instead: ['positive_reaction', 'positive_reaction']\n",
      "--------------------------------\n",
      "Testing intent: goodbye\n",
      "correct intents predicted:  50 %\n",
      "not correct but in top 3:  30 %\n",
      "intents that were predicted instead: ['positive_reaction', 'bot_action_directive', 'stop', 'thanks', 'repeat']\n",
      "--------------------------------\n",
      "Testing intent: bot_bad\n",
      "correct intents predicted:  40 %\n",
      "not correct but in top 3:  40 %\n",
      "intents that were predicted instead: ['negative_reaction', 'affirm_correct', 'negative_reaction', 'positive_reaction', 'bot_action_directive', 'positive_reaction']\n",
      "--------------------------------\n",
      "Testing intent: tell_me_joke\n",
      "correct intents predicted:  70 %\n",
      "not correct but in top 3:  20 %\n",
      "intents that were predicted instead: ['bot_action_directive', 'yes_agree', 'bot_action_directive']\n",
      "--------------------------------\n",
      "Testing intent: list_of_games\n",
      "correct intents predicted:  100 %\n",
      "not correct but in top 3:  0 %\n",
      "intents that were predicted instead: []\n",
      "--------------------------------\n",
      "Testing intent: play_other_game\n",
      "correct intents predicted:  70 %\n",
      "not correct but in top 3:  30 %\n",
      "intents that were predicted instead: ['bot_action_directive', 'stop', 'repeat']\n",
      "--------------------------------\n",
      "Testing intent: response_acknowledgement\n",
      "correct intents predicted:  80 %\n",
      "not correct but in top 3:  10 %\n",
      "intents that were predicted instead: ['positive_reaction', 'music_likeness']\n",
      "--------------------------------\n",
      "Testing intent: bot_action_directive\n",
      "correct intents predicted:  30 %\n",
      "not correct but in top 3:  40 %\n",
      "intents that were predicted instead: ['youre_not_correct', 'bot_affection', 'yes_agree', 'response_acknowledgement', 'goodbye', 'no_deny_wrong', 'yes_agree']\n",
      "--------------------------------\n",
      "Testing intent: bot_affection\n",
      "correct intents predicted:  60 %\n",
      "not correct but in top 3:  30 %\n",
      "intents that were predicted instead: ['positive_reaction', 'yes_agree', 'positive_reaction', 'positive_reaction']\n",
      "--------------------------------\n",
      "Testing intent: music_likeness\n",
      "correct intents predicted:  100 %\n",
      "not correct but in top 3:  0 %\n",
      "intents that were predicted instead: []\n",
      "--------------------------------\n",
      "Testing intent: negative_reaction\n",
      "correct intents predicted:  60 %\n",
      "not correct but in top 3:  20 %\n",
      "intents that were predicted instead: ['bot_bad', 'stop', 'appreciation', 'bot_bad']\n",
      "--------------------------------\n",
      "Testing intent: positive_reaction\n",
      "correct intents predicted:  70 %\n",
      "not correct but in top 3:  30 %\n",
      "intents that were predicted instead: ['affirm_correct', 'affirm_correct', 'yes_agree']\n",
      "--------------------------------\n",
      "Testing intent: no_deny_wrong\n",
      "correct intents predicted:  70 %\n",
      "not correct but in top 3:  30 %\n",
      "intents that were predicted instead: ['youre_not_correct', 'youre_not_correct', 'stop']\n",
      "--------------------------------\n",
      "Testing intent: stop\n",
      "correct intents predicted:  70 %\n",
      "not correct but in top 3:  10 %\n",
      "intents that were predicted instead: ['youre_not_correct', 'i_dont_care', 'i_dont_care']\n",
      "--------------------------------\n",
      "Testing intent: i_dont_care\n",
      "correct intents predicted:  70 %\n",
      "not correct but in top 3:  20 %\n",
      "intents that were predicted instead: ['yes_agree', 'appreciation', 'greetings']\n",
      "--------------------------------\n",
      "Testing intent: appreciation\n",
      "correct intents predicted:  50 %\n",
      "not correct but in top 3:  50 %\n",
      "intents that were predicted instead: ['positive_reaction', 'stop', 'affirm_correct', 'yes_agree', 'positive_reaction']\n",
      "--------------------------------\n",
      "Testing intent: affirm_correct\n",
      "correct intents predicted:  60 %\n",
      "not correct but in top 3:  30 %\n",
      "intents that were predicted instead: ['positive_reaction', 'general_praise', 'yes_agree', 'positive_reaction']\n",
      "--------------------------------\n",
      "Testing intent: repeat\n",
      "correct intents predicted:  90 %\n",
      "not correct but in top 3:  10 %\n",
      "intents that were predicted instead: ['bot_action_directive']\n",
      "--------------------------------\n",
      "Testing intent: general_praise\n",
      "correct intents predicted:  90 %\n",
      "not correct but in top 3:  10 %\n",
      "intents that were predicted instead: ['goodbye']\n",
      "--------------------------------\n",
      "Testing intent: explain\n",
      "correct intents predicted:  80 %\n",
      "not correct but in top 3:  20 %\n",
      "intents that were predicted instead: ['repeat', 'bot_identity']\n",
      "--------------------------------\n",
      "Testing intent: youre_not_correct\n",
      "correct intents predicted:  90 %\n",
      "not correct but in top 3:  10 %\n",
      "intents that were predicted instead: ['bot_action_directive']\n",
      "--------------------------------\n",
      "Testing intent: yes_agree\n",
      "correct intents predicted:  70 %\n",
      "not correct but in top 3:  30 %\n",
      "intents that were predicted instead: ['affirm_correct', 'affirm_correct', 'appreciation']\n",
      "--------------------------------\n",
      "--------------------------------\n",
      "--------------------------------\n",
      "Total result:\n",
      "correct intents predicted: 71 %\n",
      "not correct but in top 3: 21 %\n",
      "top 1 + top 3: 92 %\n"
     ]
    }
   ],
   "source": [
    "test_results = []\n",
    "test_results.append(test_intent('bot_identity', ru_test_bot_identity + nl_test_bot_identity))\n",
    "test_results.append(test_intent('thanks', ru_test_thanks + nl_test_thanks))\n",
    "test_results.append(test_intent('volume_up', ru_test_volume_up + nl_test_volume_up))\n",
    "test_results.append(test_intent('volume_down', ru_test_volume_down + nl_test_volume_down))\n",
    "test_results.append(test_intent('bot_purpose', ru_test_bot_purpose + nl_test_bot_purpose))\n",
    "test_results.append(test_intent('greetings', ru_test_greetings + nl_test_greetings))\n",
    "test_results.append(test_intent('goodbye', ru_test_goodbye + nl_test_goodbye))\n",
    "test_results.append(test_intent('bot_bad', ru_test_bot_bad + nl_test_bot_bad))\n",
    "test_results.append(test_intent('tell_me_joke', ru_test_tell_me_joke + nl_test_tell_me_joke))\n",
    "test_results.append(test_intent('list_of_games', ru_test_list_of_games + nl_test_list_of_games))\n",
    "test_results.append(test_intent('play_other_game', ru_test_play_other_game + nl_test_play_other_game))\n",
    "test_results.append(test_intent('response_acknowledgement', ru_test_response_acknowledgement + nl_test_response_acknowledgement))\n",
    "test_results.append(test_intent('bot_action_directive', ru_test_bot_action_directive + nl_test_bot_action_directive))\n",
    "test_results.append(test_intent('bot_affection', ru_test_bot_affection + nl_test_bot_affection)) \n",
    "test_results.append(test_intent('music_likeness', ru_test_music_likeness + nl_test_music_likeness)) \n",
    "test_results.append(test_intent('negative_reaction', ru_test_negative_reaction + nl_test_negative_reaction)) \n",
    "test_results.append(test_intent('positive_reaction', ru_test_positive_reaction + nl_test_positive_reaction)) \n",
    "test_results.append(test_intent('no_deny_wrong', ru_test_no_deny_wrong + nl_test_no_deny_wrong)) \n",
    "test_results.append(test_intent('stop', ru_test_stop + nl_test_stop)) \n",
    "test_results.append(test_intent('i_dont_care', ru_test_i_dont_care + nl_test_i_dont_care)) \n",
    "test_results.append(test_intent('appreciation', ru_test_appreciation + nl_test_appreciation)) \n",
    "test_results.append(test_intent('affirm_correct', ru_test_affirm_correct + nl_test_affirm_correct)) \n",
    "test_results.append(test_intent('repeat', ru_test_repeat + nl_test_repeat)) \n",
    "test_results.append(test_intent('general_praise', ru_test_general_praise + nl_test_general_praise)) \n",
    "test_results.append(test_intent('explain', ru_test_explain + nl_test_explain)) \n",
    "test_results.append(test_intent('youre_not_correct', ru_test_youre_not_correct + nl_test_youre_not_correct)) \n",
    "test_results.append(test_intent('yes_agree', ru_test_yes_agree + nl_test_yes_agree)) \n",
    "\n",
    "correct_results, top3_results = zip(*test_results)\n",
    "correct_pct = round(mean(correct_results))\n",
    "top3_pct = round(mean(top3_results))\n",
    "print('--------------------------------')\n",
    "print('--------------------------------')\n",
    "print('Total result:')\n",
    "print('correct intents predicted:', correct_pct, '%')\n",
    "print('not correct but in top 3:', top3_pct, '%')\n",
    "print('top 1 + top 3:', correct_pct + top3_pct, '%')"
   ]
  },
  {
   "cell_type": "code",
   "execution_count": null,
   "id": "0f677639",
   "metadata": {},
   "outputs": [],
   "source": []
  }
 ],
 "metadata": {
  "kernelspec": {
   "display_name": "Python 3 (ipykernel)",
   "language": "python",
   "name": "python3"
  },
  "language_info": {
   "codemirror_mode": {
    "name": "ipython",
    "version": 3
   },
   "file_extension": ".py",
   "mimetype": "text/x-python",
   "name": "python",
   "nbconvert_exporter": "python",
   "pygments_lexer": "ipython3",
   "version": "3.8.10"
  }
 },
 "nbformat": 4,
 "nbformat_minor": 5
}
